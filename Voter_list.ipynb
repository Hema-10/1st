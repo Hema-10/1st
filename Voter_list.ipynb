{
  "nbformat": 4,
  "nbformat_minor": 0,
  "metadata": {
    "colab": {
      "provenance": [],
      "authorship_tag": "ABX9TyOMjOz7HtTRuxj1ZGUrIuyB",
      "include_colab_link": true
    },
    "kernelspec": {
      "name": "python3",
      "display_name": "Python 3"
    },
    "language_info": {
      "name": "python"
    }
  },
  "cells": [
    {
      "cell_type": "markdown",
      "metadata": {
        "id": "view-in-github",
        "colab_type": "text"
      },
      "source": [
        "<a href=\"https://colab.research.google.com/github/Hema-10/1st/blob/main/Voter_list.ipynb\" target=\"_parent\"><img src=\"https://colab.research.google.com/assets/colab-badge.svg\" alt=\"Open In Colab\"/></a>"
      ]
    },
    {
      "cell_type": "code",
      "execution_count": null,
      "metadata": {
        "id": "d7OGhA6YKBgi"
      },
      "outputs": [],
      "source": [
        "# Initialize the voter list and candidate names\n",
        "voter_list = list(range(1, 11))\n",
        "candidates = ['A', 'B', 'C']\n",
        "\n",
        "# Initialize vote counts for each candidate\n",
        "vote_counts = {candidate: 0 for candidate in candidates}\n",
        "\n",
        "# Take input from the user for casting votes\n",
        "for voter in voter_list:\n",
        "    print(f\"Voter {voter}, please cast your vote (Enter A, B, or C):\")\n",
        "    vote = input().upper()\n",
        "    while vote not in candidates:\n",
        "        print(\"Invalid choice. Please enter A, B, or C:\")\n",
        "        vote = input().upper()\n",
        "    vote_counts[vote] += 1\n",
        "\n",
        "# Find the winner and runner-up\n",
        "sorted_votes = sorted(vote_counts.items(), key=lambda x: x[1], reverse=True)\n",
        "winner = sorted_votes[0][0]\n",
        "runner_up = sorted_votes[1][0]\n",
        "\n",
        "# Find the members who voted for the winner and runner-up\n",
        "voters_for_winner = [voter for voter, vote in vote_counts.items() if vote == vote_counts[winner]]\n",
        "voters_for_runner_up = [voter for voter, vote in vote_counts.items() if vote == vote_counts[runner_up]]\n",
        "\n",
        "# Print the results\n",
        "print⬤"
      ]
    }
  ]
}